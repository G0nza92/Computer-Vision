{
 "cells": [
  {
   "cell_type": "markdown",
   "id": "16e3f53d",
   "metadata": {},
   "source": [
    "importamos librerias necesarias"
   ]
  },
  {
   "cell_type": "code",
   "execution_count": 1,
   "id": "8aa2f07a",
   "metadata": {},
   "outputs": [
    {
     "ename": "RuntimeError",
     "evalue": "module compiled against API version 0xf but this version of numpy is 0xe",
     "output_type": "error",
     "traceback": [
      "\u001b[1;31m---------------------------------------------------------------------------\u001b[0m",
      "\u001b[1;31mRuntimeError\u001b[0m                              Traceback (most recent call last)",
      "\u001b[1;31mRuntimeError\u001b[0m: module compiled against API version 0xf but this version of numpy is 0xe"
     ]
    },
    {
     "ename": "RuntimeError",
     "evalue": "module compiled against API version 0xf but this version of numpy is 0xe",
     "output_type": "error",
     "traceback": [
      "\u001b[1;31m---------------------------------------------------------------------------\u001b[0m",
      "\u001b[1;31mRuntimeError\u001b[0m                              Traceback (most recent call last)",
      "\u001b[1;31mRuntimeError\u001b[0m: module compiled against API version 0xf but this version of numpy is 0xe"
     ]
    },
    {
     "ename": "RuntimeError",
     "evalue": "module compiled against API version 0xf but this version of numpy is 0xe",
     "output_type": "error",
     "traceback": [
      "\u001b[1;31m---------------------------------------------------------------------------\u001b[0m",
      "\u001b[1;31mRuntimeError\u001b[0m                              Traceback (most recent call last)",
      "\u001b[1;31mRuntimeError\u001b[0m: module compiled against API version 0xf but this version of numpy is 0xe"
     ]
    },
    {
     "ename": "RuntimeError",
     "evalue": "module compiled against API version 0xf but this version of numpy is 0xe",
     "output_type": "error",
     "traceback": [
      "\u001b[1;31m---------------------------------------------------------------------------\u001b[0m",
      "\u001b[1;31mRuntimeError\u001b[0m                              Traceback (most recent call last)",
      "\u001b[1;31mRuntimeError\u001b[0m: module compiled against API version 0xf but this version of numpy is 0xe"
     ]
    },
    {
     "ename": "RuntimeError",
     "evalue": "module compiled against API version 0xf but this version of numpy is 0xe",
     "output_type": "error",
     "traceback": [
      "\u001b[1;31m---------------------------------------------------------------------------\u001b[0m",
      "\u001b[1;31mRuntimeError\u001b[0m                              Traceback (most recent call last)",
      "\u001b[1;31mRuntimeError\u001b[0m: module compiled against API version 0xf but this version of numpy is 0xe"
     ]
    }
   ],
   "source": [
    "import cv2\n",
    "from keras.models import Sequential\n",
    "from keras.layers import Conv2D, MaxPooling2D, Dense, Dropout, Flatten\n",
    "from keras.optimizers import Adam\n",
    "from keras.preprocessing.image import ImageDataGenerator"
   ]
  },
  {
   "cell_type": "code",
   "execution_count": 2,
   "id": "35b07982",
   "metadata": {},
   "outputs": [],
   "source": [
    "#iniciamos un generados de datos de imagenes y las reescalamos \n",
    "train_data_gen = ImageDataGenerator(rescale=1./255)\n",
    "validation_data_gen = ImageDataGenerator(rescale=1./255)"
   ]
  },
  {
   "cell_type": "code",
   "execution_count": 3,
   "id": "9f26d086",
   "metadata": {},
   "outputs": [
    {
     "name": "stdout",
     "output_type": "stream",
     "text": [
      "Found 28821 images belonging to 7 classes.\n"
     ]
    }
   ],
   "source": [
    "# preprocesamos las imagenes en un tamaño 48*48 a una escala de grises para el entrenamiento\n",
    "train_generator = train_data_gen.flow_from_directory(\n",
    "        'images/train',\n",
    "        target_size=(48, 48),\n",
    "        batch_size=64,\n",
    "        color_mode=\"grayscale\",\n",
    "        class_mode='categorical')"
   ]
  },
  {
   "cell_type": "code",
   "execution_count": 4,
   "id": "f7773f9d",
   "metadata": {},
   "outputs": [
    {
     "name": "stdout",
     "output_type": "stream",
     "text": [
      "Found 7066 images belonging to 7 classes.\n"
     ]
    }
   ],
   "source": [
    "# preprocesamos las imagenes en un tamaño 48*48 a una escala de grises para evaluar el modelo\n",
    "validation_generator = validation_data_gen.flow_from_directory(\n",
    "        'images/validation',\n",
    "        target_size=(48, 48),\n",
    "        batch_size=64,\n",
    "        color_mode=\"grayscale\",\n",
    "        class_mode='categorical')\n"
   ]
  },
  {
   "cell_type": "code",
   "execution_count": 5,
   "id": "054a69a8",
   "metadata": {},
   "outputs": [],
   "source": [
    "#creamos el modelo de red neuronal con activacion relu \n",
    "emotion_model = Sequential()\n",
    "\n",
    "emotion_model.add(Conv2D(32, kernel_size=(3, 3), activation='relu', input_shape=(48, 48, 1)))\n",
    "emotion_model.add(Conv2D(64, kernel_size=(3, 3), activation='relu'))\n",
    "emotion_model.add(MaxPooling2D(pool_size=(2, 2)))\n",
    "emotion_model.add(Dropout(0.25))\n",
    "\n",
    "emotion_model.add(Conv2D(128, kernel_size=(3, 3), activation='relu'))\n",
    "emotion_model.add(MaxPooling2D(pool_size=(2, 2)))\n",
    "emotion_model.add(Conv2D(128, kernel_size=(3, 3), activation='relu'))\n",
    "emotion_model.add(MaxPooling2D(pool_size=(2, 2)))\n",
    "emotion_model.add(Dropout(0.25))\n",
    "\n",
    "emotion_model.add(Flatten())\n",
    "emotion_model.add(Dense(1024, activation='relu'))\n",
    "emotion_model.add(Dropout(0.5))\n",
    "emotion_model.add(Dense(7, activation='softmax'))\n",
    "\n",
    "cv2.ocl.setUseOpenCL(False)"
   ]
  },
  {
   "cell_type": "code",
   "execution_count": 6,
   "id": "53385c56",
   "metadata": {},
   "outputs": [
    {
     "name": "stderr",
     "output_type": "stream",
     "text": [
      "C:\\Users\\Gonzalo\\anaconda3\\envs\\opencv\\lib\\site-packages\\keras\\optimizers\\optimizer_v2\\adam.py:114: UserWarning: The `lr` argument is deprecated, use `learning_rate` instead.\n",
      "  super().__init__(name, **kwargs)\n"
     ]
    }
   ],
   "source": [
    "emotion_model.compile(loss='categorical_crossentropy', optimizer=Adam(lr=0.0001, decay=1e-6), metrics=['accuracy'])\n"
   ]
  },
  {
   "cell_type": "code",
   "execution_count": 7,
   "id": "c32d2cc2",
   "metadata": {},
   "outputs": [
    {
     "name": "stderr",
     "output_type": "stream",
     "text": [
      "C:\\Users\\Gonzalo\\AppData\\Local\\Temp\\ipykernel_11792\\2042134858.py:2: UserWarning: `Model.fit_generator` is deprecated and will be removed in a future version. Please use `Model.fit`, which supports generators.\n",
      "  emotion_model_info = emotion_model.fit_generator(\n"
     ]
    },
    {
     "ename": "RuntimeError",
     "evalue": "module compiled against API version 0xf but this version of numpy is 0xe",
     "output_type": "error",
     "traceback": [
      "\u001b[1;31m---------------------------------------------------------------------------\u001b[0m",
      "\u001b[1;31mRuntimeError\u001b[0m                              Traceback (most recent call last)",
      "\u001b[1;31mRuntimeError\u001b[0m: module compiled against API version 0xf but this version of numpy is 0xe"
     ]
    },
    {
     "ename": "RuntimeError",
     "evalue": "module compiled against API version 0xf but this version of numpy is 0xe",
     "output_type": "error",
     "traceback": [
      "\u001b[1;31m---------------------------------------------------------------------------\u001b[0m",
      "\u001b[1;31mRuntimeError\u001b[0m                              Traceback (most recent call last)",
      "\u001b[1;31mRuntimeError\u001b[0m: module compiled against API version 0xf but this version of numpy is 0xe"
     ]
    },
    {
     "name": "stdout",
     "output_type": "stream",
     "text": [
      "Epoch 1/20\n",
      "450/450 [==============================] - ETA: 0s - loss: 1.7980 - accuracy: 0.2588"
     ]
    },
    {
     "ename": "RuntimeError",
     "evalue": "module compiled against API version 0xf but this version of numpy is 0xe",
     "output_type": "error",
     "traceback": [
      "\u001b[1;31m---------------------------------------------------------------------------\u001b[0m",
      "\u001b[1;31mRuntimeError\u001b[0m                              Traceback (most recent call last)",
      "\u001b[1;31mRuntimeError\u001b[0m: module compiled against API version 0xf but this version of numpy is 0xe"
     ]
    },
    {
     "ename": "RuntimeError",
     "evalue": "module compiled against API version 0xf but this version of numpy is 0xe",
     "output_type": "error",
     "traceback": [
      "\u001b[1;31m---------------------------------------------------------------------------\u001b[0m",
      "\u001b[1;31mRuntimeError\u001b[0m                              Traceback (most recent call last)",
      "\u001b[1;31mRuntimeError\u001b[0m: module compiled against API version 0xf but this version of numpy is 0xe"
     ]
    },
    {
     "name": "stdout",
     "output_type": "stream",
     "text": [
      "450/450 [==============================] - 300s 663ms/step - loss: 1.7980 - accuracy: 0.2588 - val_loss: 1.6843 - val_accuracy: 0.3392\n",
      "Epoch 2/20\n",
      "450/450 [==============================] - 240s 534ms/step - loss: 1.6199 - accuracy: 0.3661 - val_loss: 1.5296 - val_accuracy: 0.4226\n",
      "Epoch 3/20\n",
      "450/450 [==============================] - 242s 538ms/step - loss: 1.5127 - accuracy: 0.4159 - val_loss: 1.4543 - val_accuracy: 0.4423\n",
      "Epoch 4/20\n",
      "450/450 [==============================] - 244s 541ms/step - loss: 1.4422 - accuracy: 0.4453 - val_loss: 1.3844 - val_accuracy: 0.4739\n",
      "Epoch 5/20\n",
      "450/450 [==============================] - 244s 542ms/step - loss: 1.3831 - accuracy: 0.4714 - val_loss: 1.3571 - val_accuracy: 0.4911\n",
      "Epoch 6/20\n",
      "450/450 [==============================] - 245s 543ms/step - loss: 1.3333 - accuracy: 0.4904 - val_loss: 1.3027 - val_accuracy: 0.5075\n",
      "Epoch 7/20\n",
      "450/450 [==============================] - 246s 546ms/step - loss: 1.2936 - accuracy: 0.5118 - val_loss: 1.2558 - val_accuracy: 0.5247\n",
      "Epoch 8/20\n",
      "450/450 [==============================] - 245s 545ms/step - loss: 1.2528 - accuracy: 0.5269 - val_loss: 1.2463 - val_accuracy: 0.5293\n",
      "Epoch 9/20\n",
      "450/450 [==============================] - 247s 548ms/step - loss: 1.2244 - accuracy: 0.5386 - val_loss: 1.2024 - val_accuracy: 0.5496\n",
      "Epoch 10/20\n",
      "450/450 [==============================] - 244s 543ms/step - loss: 1.1924 - accuracy: 0.5505 - val_loss: 1.1916 - val_accuracy: 0.5506\n",
      "Epoch 11/20\n",
      "450/450 [==============================] - 245s 545ms/step - loss: 1.1624 - accuracy: 0.5637 - val_loss: 1.1749 - val_accuracy: 0.5554\n",
      "Epoch 12/20\n",
      "450/450 [==============================] - 246s 546ms/step - loss: 1.1345 - accuracy: 0.5731 - val_loss: 1.1492 - val_accuracy: 0.5678\n",
      "Epoch 13/20\n",
      "450/450 [==============================] - 247s 549ms/step - loss: 1.1098 - accuracy: 0.5832 - val_loss: 1.1393 - val_accuracy: 0.5751\n",
      "Epoch 14/20\n",
      "450/450 [==============================] - 245s 545ms/step - loss: 1.0857 - accuracy: 0.5932 - val_loss: 1.1323 - val_accuracy: 0.5753\n",
      "Epoch 15/20\n",
      "450/450 [==============================] - 11044s 25s/step - loss: 1.0576 - accuracy: 0.6042 - val_loss: 1.1207 - val_accuracy: 0.5776\n",
      "Epoch 16/20\n",
      "450/450 [==============================] - 248s 548ms/step - loss: 1.0354 - accuracy: 0.6134 - val_loss: 1.1232 - val_accuracy: 0.5851\n",
      "Epoch 17/20\n",
      "450/450 [==============================] - 232s 516ms/step - loss: 1.0129 - accuracy: 0.6231 - val_loss: 1.1011 - val_accuracy: 0.5936\n",
      "Epoch 18/20\n",
      "450/450 [==============================] - 236s 524ms/step - loss: 0.9878 - accuracy: 0.6337 - val_loss: 1.1033 - val_accuracy: 0.5952\n",
      "Epoch 19/20\n",
      "450/450 [==============================] - 237s 526ms/step - loss: 0.9662 - accuracy: 0.6450 - val_loss: 1.0929 - val_accuracy: 0.5972\n",
      "Epoch 20/20\n",
      "450/450 [==============================] - 236s 525ms/step - loss: 0.9497 - accuracy: 0.6485 - val_loss: 1.0879 - val_accuracy: 0.5986\n"
     ]
    }
   ],
   "source": [
    "# entrenamos la red neuronal- steps_per_epoch=28821 // 64, es la cantidad de imagenes dividida por el batch_size \n",
    "emotion_model_info = emotion_model.fit_generator(\n",
    "        train_generator,\n",
    "        steps_per_epoch=28821 // 64,\n",
    "        epochs=20,\n",
    "        validation_data=validation_generator,\n",
    "        validation_steps=7066 // 64)"
   ]
  },
  {
   "cell_type": "code",
   "execution_count": 8,
   "id": "3f076d8c",
   "metadata": {},
   "outputs": [],
   "source": [
    "# guardamos el modelo en un archivo json\n",
    "model_json = emotion_model.to_json()\n",
    "with open(\"emotion_model1.json\", \"w\") as json_file:\n",
    "    json_file.write(model_json)"
   ]
  },
  {
   "cell_type": "code",
   "execution_count": 9,
   "id": "3ea553d2",
   "metadata": {},
   "outputs": [],
   "source": [
    "# guardamos el modelo en un archivo .h5 \n",
    "emotion_model.save_weights('emotion_model1.h5')"
   ]
  },
  {
   "cell_type": "code",
   "execution_count": null,
   "id": "6eac6eb4",
   "metadata": {},
   "outputs": [],
   "source": []
  }
 ],
 "metadata": {
  "kernelspec": {
   "display_name": "Python 3 (ipykernel)",
   "language": "python",
   "name": "python3"
  },
  "language_info": {
   "codemirror_mode": {
    "name": "ipython",
    "version": 3
   },
   "file_extension": ".py",
   "mimetype": "text/x-python",
   "name": "python",
   "nbconvert_exporter": "python",
   "pygments_lexer": "ipython3",
   "version": "3.10.4"
  }
 },
 "nbformat": 4,
 "nbformat_minor": 5
}
